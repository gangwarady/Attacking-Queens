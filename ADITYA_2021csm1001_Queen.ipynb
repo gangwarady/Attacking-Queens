{
  "nbformat": 4,
  "nbformat_minor": 0,
  "metadata": {
    "colab": {
      "name": "ADITYA_2021csm1001_Queen.ipynb",
      "provenance": [],
      "collapsed_sections": []
    },
    "kernelspec": {
      "name": "python3",
      "display_name": "Python 3"
    },
    "language_info": {
      "name": "python"
    }
  },
  "cells": [
    {
      "cell_type": "markdown",
      "source": [
        "Consider in total, 5 trials,\n",
        "\n",
        " \n",
        "\n",
        "---\n",
        "\n",
        "\n",
        "\n",
        "1.   you have 4 queens in a 4x4 seating space.\n",
        "2.   you have 5 queens in a 5x5 seating space.\n",
        "3.   you have 6 queens in a 6x6 seating space.\n",
        "4.  you have 7 queens in a 7x7 seating space.\n",
        "5.  you have 8 queens in a 8x8 seating space.\n",
        "5.  you have 9 queens in a 9x9 seating space.\n",
        "5.  you have 10 queens in a 10x10 seating space.\n",
        "\n",
        "----\n"
      ],
      "metadata": {
        "id": "3Dgf3EzdtZAl"
      }
    },
    {
      "cell_type": "markdown",
      "source": [
        "In the end, plot a graph with all five trials in X-axis and following metrices in Y axis,\n",
        " * The number of nodes explored \n",
        " * Optimnal path cost \n",
        " * Total time taken by A* algorithm "
      ],
      "metadata": {
        "id": "83JzXB1zt8cb"
      }
    },
    {
      "cell_type": "markdown",
      "source": [
        "Define heuristics"
      ],
      "metadata": {
        "id": "ijHLUVxavMcZ"
      }
    },
    {
      "cell_type": "code",
      "source": [
        "def queen_heuristic(seqs,size):\n",
        "  state=[]\n",
        "  attack_queens=0\n",
        "  dictt={}\n",
        "  for i in range(1, size+1):\n",
        "    if seqs[i-1] != 0: \n",
        "      state.append((seqs[i-1],i-1))\n",
        "  for (x,y) in state:\n",
        "    for (i,j) in state:\n",
        "      if((x,y)!=(i,j)):\n",
        "        if(x==i or y==j or abs(x-i)==abs(y-j)):\n",
        "          dictt[(i,j)]=1\n",
        "          dictt[(x,y)]=1\n",
        "  \n",
        "  for val in dictt.values():\n",
        "    if(val==1):\n",
        "      attack_queens=attack_queens+1\n",
        "\n",
        "  return attack_queens\n",
        "\n",
        "\n",
        "\n",
        "  "
      ],
      "metadata": {
        "id": "14iZ0N2-sd3M"
      },
      "execution_count": null,
      "outputs": []
    },
    {
      "cell_type": "markdown",
      "source": [
        "# New Heusristic:\n",
        "\n",
        "\n",
        "*   **New heuristic** is defined as the **total number of attacks** queens are making to each other.\n",
        "\n",
        "\n"
      ],
      "metadata": {
        "id": "DHoP6W88r8YC"
      }
    },
    {
      "cell_type": "code",
      "source": [
        "def new_heuristic(seqs,size): # defining a new heuristics \n",
        "  state=[]\n",
        "  total_attacks=0\n",
        "  dictt={}\n",
        "  for i in range(1, size+1):\n",
        "    if seqs[i-1] != 0: \n",
        "      state.append((seqs[i-1],i-1))\n",
        "  for (x,y) in state:\n",
        "    for (i,j) in state:\n",
        "      if((x,y)!=(i,j)):\n",
        "        if(x==i or y==j or abs(x-i)==abs(y-j)):\n",
        "          total_attacks = total_attacks + 1\n",
        "  \n",
        "  \n",
        "\n",
        "  return total_attacks\n"
      ],
      "metadata": {
        "id": "316PU2nFKDrM"
      },
      "execution_count": null,
      "outputs": []
    },
    {
      "cell_type": "markdown",
      "source": [
        "Your solution using A*"
      ],
      "metadata": {
        "id": "_G7Q1rK8G_sk"
      }
    },
    {
      "cell_type": "code",
      "source": [
        "# Your code goes here\n",
        "\n",
        "\n",
        "\n",
        "\n",
        "\n",
        "\n",
        "def queenastar(size):  #calls original heuristic\n",
        "  \n",
        "  nodes_explored=1\n",
        "  cost=0\n",
        "  fin = False \n",
        "  from queue import PriorityQueue\n",
        "  p_q = PriorityQueue()\n",
        "  p_q.put((size,size,0,[0]*size))\n",
        "  \n",
        "  solution=[]\n",
        "\n",
        "  while p_q: \n",
        "    state = p_q.get()  \n",
        "    if(cost<=(state[2]*(state[2]-1))/2):\n",
        "      cost=cost+ state[2]\n",
        "    q_list = state[3]\n",
        "    if(state[1] == 0 and state[2] == size): \n",
        "        fin = True \n",
        "        solution = state[3] \n",
        "        break\n",
        "    rows = list(range(1, size+1))  \n",
        "\n",
        "    if q_list.count(0) != 0: \n",
        "        for i in range(size): \n",
        "          col = q_list.index(0)\n",
        "          nodes_explored=nodes_explored+1\n",
        "          random.seed(27)\n",
        "          ro = random.choice(rows)  \n",
        "          rows.remove(ro)  \n",
        "          cpy = list(q_list)\n",
        "          cpy[col] = ro \n",
        "          val = size - cpy.count(0)\n",
        "          \n",
        "          h = queen_heuristic(cpy,size)\n",
        "          #val= val-h\n",
        "          fn = val + h\n",
        "          p_q.put((fn,h,val ,cpy))  \n",
        "          \n",
        "\n",
        "  if(fin==True):\n",
        "    \n",
        "    print('Goal found')\n",
        "  else:\n",
        "    print('Goal cannot be found')\n",
        "\n",
        "  \n",
        "  return nodes_explored, cost, solution\n",
        "\n",
        "\n",
        "def myqueenastar(size):  #calls new heuristic\n",
        "  \n",
        "  nodes_explored=1\n",
        "  cost=0\n",
        "  fin = False \n",
        "  from queue import PriorityQueue\n",
        "  p_q = PriorityQueue()\n",
        "  p_q.put((size,size,0,[0]*size))\n",
        "  \n",
        "  solution=[]\n",
        "\n",
        "  while p_q: \n",
        "    state = p_q.get()  \n",
        "    if(cost<=(state[2]*(state[2]-1))/2):\n",
        "      cost=cost+ state[2]\n",
        "    q_list = state[3]\n",
        "    if(state[1] == 0 and state[2] == size): \n",
        "        fin = True \n",
        "        solution = state[3] \n",
        "        break\n",
        "    rows = list(range(1, size+1))  \n",
        "\n",
        "    if q_list.count(0) != 0: \n",
        "        for i in range(size): \n",
        "          col = q_list.index(0)\n",
        "          nodes_explored=nodes_explored+1\n",
        "          random.seed(27)\n",
        "          ro = random.choice(rows)  \n",
        "          rows.remove(ro)  \n",
        "          cpy = list(q_list)\n",
        "          cpy[col] = ro \n",
        "          val = size - cpy.count(0)\n",
        "          h = new_heuristic(cpy,size)      \n",
        "          #val= val-h\n",
        "          fn = val + h\n",
        "          p_q.put((fn,h,val ,cpy))  \n",
        "         \n",
        "\n",
        "  if(fin==True):\n",
        "    \n",
        "    print('Goal found')\n",
        "    \n",
        "  else:\n",
        "    print('Goal cannot be found')\n",
        "\n",
        "  \n",
        "  return nodes_explored, cost, solution"
      ],
      "metadata": {
        "id": "qZGBv-FvHETp"
      },
      "execution_count": null,
      "outputs": []
    },
    {
      "cell_type": "markdown",
      "source": [
        "I have created 2 functions: queenastar() and myqueenastar().\n",
        "\n",
        "The only difference is queenastar() calls the original heuristic and myqueenastar() call the new heuristic."
      ],
      "metadata": {
        "id": "PvFQOZSwsWSR"
      }
    },
    {
      "cell_type": "markdown",
      "source": [
        "#### Trial 1: 4 queens"
      ],
      "metadata": {
        "id": "To1CKMAdvExX"
      }
    },
    {
      "cell_type": "code",
      "source": [
        "# Code to generate a 2D grid world.\n",
        "# 0 represents empty position and 1 will denote that a queen currently occupy the given position. \n",
        "\n",
        "import random\n",
        "import time\n",
        "\n",
        "size=4\n",
        "nodes_exp_l = []\n",
        "mynodes_exp = []\n",
        "optimal_cost = []\n",
        "myoptimal_cost = []\n",
        "time_t = []\n",
        "mytime_t = []\n",
        "\n",
        "\n",
        "start = time.time()\n",
        "nodes_exp, cost, solution=queenastar(size)\n",
        "end = time.time()\n",
        "time_t.append((end-start))\n",
        "nodes_exp_l.append(nodes_exp)\n",
        "optimal_cost.append(cost)\n",
        "print('Time' + str('%.2f' % (end-start)) + 's')\n",
        "print('Number of Nodes explored : ', nodes_exp)\n",
        "print('Path Cost : ', cost)\n",
        "print('\\nCHESS BOARD ===>')\n",
        "for i in range(size):\n",
        "  val = solution.pop(0)\n",
        "  for j in range(size):\n",
        "    \n",
        "    if(val==j):\n",
        "      print('1',end =\" \")\n",
        "    else:\n",
        "      print('0', end =\" \")\n",
        "  print(\"\\n\")\n",
        "\n",
        "print(\"\\nNew heuristic :\")\n",
        "start = time.time()\n",
        "nodes_exp, cost, solution=myqueenastar(size)\n",
        "end = time.time()\n",
        "mytime_t.append((end-start))\n",
        "mynodes_exp.append(nodes_exp)\n",
        "myoptimal_cost.append(cost)\n",
        "print('Time' + str('%.2f' % (end-start)) + 's')\n",
        "print('Number of Nodes explored : ', nodes_exp)\n",
        "print('Path Cost : ', cost)\n",
        "print('\\nCHESS BOARD ===>')\n",
        "for i in range(size):\n",
        "  val = solution.pop(0)\n",
        "  for j in range(size):\n",
        "    \n",
        "    if(val==j):\n",
        "      print('1',end =\" \")\n",
        "    else:\n",
        "      print('0', end =\" \")\n",
        "  print(\"\\n\")"
      ],
      "metadata": {
        "id": "T3xcLUcYtTz0",
        "colab": {
          "base_uri": "https://localhost:8080/"
        },
        "outputId": "3433afa2-9dcc-4432-9d2e-941ef044a7fd"
      },
      "execution_count": null,
      "outputs": [
        {
          "output_type": "stream",
          "name": "stdout",
          "text": [
            "Goal found\n",
            "Time0.00s\n",
            "Number of Nodes explored :  61\n",
            "Path Cost :  10\n",
            "\n",
            "CHESS BOARD ===>\n",
            "0 0 1 0 \n",
            "\n",
            "0 0 0 0 \n",
            "\n",
            "0 1 0 0 \n",
            "\n",
            "0 0 0 1 \n",
            "\n",
            "\n",
            "New heuristic :\n",
            "Goal found\n",
            "Time0.00s\n",
            "Number of Nodes explored :  61\n",
            "Path Cost :  10\n",
            "\n",
            "CHESS BOARD ===>\n",
            "0 0 1 0 \n",
            "\n",
            "0 0 0 0 \n",
            "\n",
            "0 1 0 0 \n",
            "\n",
            "0 0 0 1 \n",
            "\n"
          ]
        }
      ]
    },
    {
      "cell_type": "markdown",
      "source": [
        "The above output first shows the time, number of nodes explored, path cost for original heurstic and then for the new heuristic."
      ],
      "metadata": {
        "id": "-rgW0yZCzwBp"
      }
    },
    {
      "cell_type": "markdown",
      "source": [
        "#### Trial 2: 5 queens"
      ],
      "metadata": {
        "id": "n5oHI-SrvRhj"
      }
    },
    {
      "cell_type": "code",
      "source": [
        "# Code to generate a 2D grid world.\n",
        "# 0 represents empty position and 1 will denote that a queen currently occupy the given position. \n",
        "size=5\n",
        "\n",
        "\n",
        "\n",
        "\n",
        "start = time.time()\n",
        "nodes_exp, cost, solution=queenastar(size)\n",
        "end = time.time()\n",
        "time_t.append((end-start))\n",
        "nodes_exp_l.append(nodes_exp)\n",
        "optimal_cost.append(cost)\n",
        "print('Time' + str('%.2f' % (end-start)) + 's')\n",
        "print('Number of Nodes explored : ', nodes_exp)\n",
        "print('Path Cost : ', cost)\n",
        "print('\\nCHESS BOARD ===>')\n",
        "for i in range(size):\n",
        "  val = solution.pop(0)\n",
        "  for j in range(size):\n",
        "    \n",
        "    if(val==j):\n",
        "      print('1',end =\" \")\n",
        "    else:\n",
        "      print('0', end =\" \")\n",
        "  print(\"\\n\")\n",
        "\n",
        "print(\"\\nNew heuristic :\")\n",
        "start = time.time()\n",
        "nodes_exp, cost, solution=myqueenastar(size)\n",
        "end = time.time()\n",
        "mytime_t.append((end-start))\n",
        "mynodes_exp.append(nodes_exp)\n",
        "myoptimal_cost.append(cost)\n",
        "print('Time' + str('%.2f' % (end-start)) + 's')\n",
        "print('Number of Nodes explored : ', nodes_exp)\n",
        "print('Path Cost : ', cost)\n",
        "print('\\nCHESS BOARD ===>')\n",
        "for i in range(size):\n",
        "  val = solution.pop(0)\n",
        "  for j in range(size):\n",
        "    \n",
        "    if(val==j):\n",
        "      print('1',end =\" \")\n",
        "    else:\n",
        "      print('0', end =\" \")\n",
        "  print(\"\\n\")"
      ],
      "metadata": {
        "id": "LOSYPryLvN9B",
        "colab": {
          "base_uri": "https://localhost:8080/"
        },
        "outputId": "be272726-a276-45a0-f0ed-79e14ce39cb4"
      },
      "execution_count": null,
      "outputs": [
        {
          "output_type": "stream",
          "name": "stdout",
          "text": [
            "Goal found\n",
            "Time0.01s\n",
            "Number of Nodes explored :  286\n",
            "Path Cost :  15\n",
            "\n",
            "CHESS BOARD ===>\n",
            "0 1 0 0 0 \n",
            "\n",
            "0 0 0 1 0 \n",
            "\n",
            "0 0 0 0 0 \n",
            "\n",
            "0 0 1 0 0 \n",
            "\n",
            "0 0 0 0 1 \n",
            "\n",
            "\n",
            "New heuristic :\n",
            "Goal found\n",
            "Time0.01s\n",
            "Number of Nodes explored :  286\n",
            "Path Cost :  15\n",
            "\n",
            "CHESS BOARD ===>\n",
            "0 1 0 0 0 \n",
            "\n",
            "0 0 0 1 0 \n",
            "\n",
            "0 0 0 0 0 \n",
            "\n",
            "0 0 1 0 0 \n",
            "\n",
            "0 0 0 0 1 \n",
            "\n"
          ]
        }
      ]
    },
    {
      "cell_type": "markdown",
      "source": [
        "#### Trial 3: 6 queens"
      ],
      "metadata": {
        "id": "-lAAy4-7vNva"
      }
    },
    {
      "cell_type": "code",
      "source": [
        "# Code to generate a 2D grid world.\n",
        "# 0 represents empty position and 1 will denote that a queen currently occupy the given position. \n",
        "\n",
        "size=6\n",
        "\n",
        "\n",
        "start = time.time()\n",
        "nodes_exp, cost, solution=queenastar(size)\n",
        "end = time.time()\n",
        "time_t.append((end-start))\n",
        "nodes_exp_l.append(nodes_exp)\n",
        "optimal_cost.append(cost)\n",
        "print('Time' + str('%.2f' % (end-start)) + 's')\n",
        "print('Number of Nodes explored : ', nodes_exp)\n",
        "print('Path Cost : ', cost)\n",
        "print('\\nCHESS BOARD ===>')\n",
        "for i in range(size):\n",
        "  val = solution.pop(0)\n",
        "  for j in range(size):\n",
        "    \n",
        "    if(val==j):\n",
        "      print('1',end =\" \")\n",
        "    else:\n",
        "      print('0', end =\" \")\n",
        "  print(\"\\n\")\n",
        "\n",
        "print(\"\\nNew heuristic :\")\n",
        "start = time.time()\n",
        "nodes_exp, cost, solution=myqueenastar(size)\n",
        "end = time.time()\n",
        "mytime_t.append((end-start))\n",
        "mynodes_exp.append(nodes_exp)\n",
        "myoptimal_cost.append(cost)\n",
        "print('Time' + str('%.2f' % (end-start)) + 's')\n",
        "print('Number of Nodes explored : ', nodes_exp)\n",
        "print('Path Cost : ', cost)\n",
        "print('\\nCHESS BOARD ===>')\n",
        "for i in range(size):\n",
        "  val = solution.pop(0)\n",
        "  for j in range(size):\n",
        "    \n",
        "    if(val==j):\n",
        "      print('1',end =\" \")\n",
        "    else:\n",
        "      print('0', end =\" \")\n",
        "  print(\"\\n\")\n"
      ],
      "metadata": {
        "id": "3ycNWOfWvNii",
        "colab": {
          "base_uri": "https://localhost:8080/"
        },
        "outputId": "c722ce75-575c-4f7a-b4f3-c1eed913842a"
      },
      "execution_count": null,
      "outputs": [
        {
          "output_type": "stream",
          "name": "stdout",
          "text": [
            "Goal found\n",
            "Time0.05s\n",
            "Number of Nodes explored :  1639\n",
            "Path Cost :  21\n",
            "\n",
            "CHESS BOARD ===>\n",
            "0 0 1 0 0 0 \n",
            "\n",
            "0 0 0 0 1 0 \n",
            "\n",
            "0 0 0 0 0 0 \n",
            "\n",
            "0 1 0 0 0 0 \n",
            "\n",
            "0 0 0 1 0 0 \n",
            "\n",
            "0 0 0 0 0 1 \n",
            "\n",
            "\n",
            "New heuristic :\n",
            "Goal found\n",
            "Time0.05s\n",
            "Number of Nodes explored :  1639\n",
            "Path Cost :  21\n",
            "\n",
            "CHESS BOARD ===>\n",
            "0 0 1 0 0 0 \n",
            "\n",
            "0 0 0 0 1 0 \n",
            "\n",
            "0 0 0 0 0 0 \n",
            "\n",
            "0 1 0 0 0 0 \n",
            "\n",
            "0 0 0 1 0 0 \n",
            "\n",
            "0 0 0 0 0 1 \n",
            "\n"
          ]
        }
      ]
    },
    {
      "cell_type": "markdown",
      "source": [
        "#### Trial 4: 7 queens"
      ],
      "metadata": {
        "id": "l04jfgLyvNW0"
      }
    },
    {
      "cell_type": "code",
      "source": [
        "# Code to generate a 2D grid world.\n",
        "# 0 represents empty position and 1 will denote that a queen currently occupy the given position. \n",
        "size=7\n",
        "\n",
        "\n",
        "start = time.time()\n",
        "nodes_exp, cost, solution=queenastar(size)\n",
        "end = time.time()\n",
        "time_t.append((end-start))\n",
        "nodes_exp_l.append(nodes_exp)\n",
        "optimal_cost.append(cost)\n",
        "print('Time' + str('%.2f' % (end-start)) + 's')\n",
        "print('Number of Nodes explored : ', nodes_exp)\n",
        "print('Path Cost : ', cost)\n",
        "print('\\nCHESS BOARD ===>')\n",
        "for i in range(size):\n",
        "  val = solution.pop(0)\n",
        "  for j in range(size):\n",
        "    \n",
        "    if(val==j):\n",
        "      print('1',end =\" \")\n",
        "    else:\n",
        "      print('0', end =\" \")\n",
        "  print(\"\\n\")\n",
        "\n",
        "print(\"\\nNew heuristic :\")\n",
        "start = time.time()\n",
        "nodes_exp, cost, solution=myqueenastar(size)\n",
        "end = time.time()\n",
        "mytime_t.append((end-start))\n",
        "mynodes_exp.append(nodes_exp)\n",
        "myoptimal_cost.append(cost)\n",
        "print('Time' + str('%.2f' % (end-start)) + 's')\n",
        "print('Number of Nodes explored : ', nodes_exp)\n",
        "print('Path Cost : ', cost)\n",
        "print('\\nCHESS BOARD ===>')\n",
        "for i in range(size):\n",
        "  val = solution.pop(0)\n",
        "  for j in range(size):\n",
        "    \n",
        "    if(val==j):\n",
        "      print('1',end =\" \")\n",
        "    else:\n",
        "      print('0', end =\" \")\n",
        "  print(\"\\n\")\n"
      ],
      "metadata": {
        "id": "9B2LK3SGvM_g",
        "colab": {
          "base_uri": "https://localhost:8080/"
        },
        "outputId": "cc1a54db-d8bc-4b66-c196-0dbc112f1753"
      },
      "execution_count": null,
      "outputs": [
        {
          "output_type": "stream",
          "name": "stdout",
          "text": [
            "Goal found\n",
            "Time0.27s\n",
            "Number of Nodes explored :  9675\n",
            "Path Cost :  28\n",
            "\n",
            "CHESS BOARD ===>\n",
            "0 1 0 0 0 0 0 \n",
            "\n",
            "0 0 0 1 0 0 0 \n",
            "\n",
            "0 0 0 0 0 1 0 \n",
            "\n",
            "0 0 0 0 0 0 0 \n",
            "\n",
            "0 0 1 0 0 0 0 \n",
            "\n",
            "0 0 0 0 1 0 0 \n",
            "\n",
            "0 0 0 0 0 0 1 \n",
            "\n",
            "\n",
            "New heuristic :\n",
            "Goal found\n",
            "Time0.29s\n",
            "Number of Nodes explored :  9052\n",
            "Path Cost :  28\n",
            "\n",
            "CHESS BOARD ===>\n",
            "0 1 0 0 0 0 0 \n",
            "\n",
            "0 0 0 1 0 0 0 \n",
            "\n",
            "0 0 0 0 0 1 0 \n",
            "\n",
            "0 0 0 0 0 0 0 \n",
            "\n",
            "0 0 1 0 0 0 0 \n",
            "\n",
            "0 0 0 0 1 0 0 \n",
            "\n",
            "0 0 0 0 0 0 1 \n",
            "\n"
          ]
        }
      ]
    },
    {
      "cell_type": "markdown",
      "source": [
        "#### Trial 5: 8 queens"
      ],
      "metadata": {
        "id": "QvRBneJMvM0G"
      }
    },
    {
      "cell_type": "code",
      "source": [
        "# Code to generate a 2D grid world.\n",
        "# 0 represents empty position and 1 will denote that a queen currently occupy the given position. \n",
        "size=8\n",
        "\n",
        "\n",
        "\n",
        "start = time.time()\n",
        "nodes_exp, cost, solution=queenastar(size)\n",
        "end = time.time()\n",
        "time_t.append((end-start))\n",
        "nodes_exp_l.append(nodes_exp)\n",
        "optimal_cost.append(cost)\n",
        "print('Time' + str('%.2f' % (end-start)) + 's')\n",
        "print('Number of Nodes explored : ', nodes_exp)\n",
        "print('Path Cost : ', cost)\n",
        "print('\\nCHESS BOARD ===>')\n",
        "for i in range(size):\n",
        "  val = solution.pop(0)\n",
        "  for j in range(size):\n",
        "    \n",
        "    if(val==j):\n",
        "      print('1',end =\" \")\n",
        "    else:\n",
        "      print('0', end =\" \")\n",
        "  print(\"\\n\")\n",
        "\n",
        "print(\"\\nNew heuristic :\")\n",
        "start = time.time()\n",
        "nodes_exp, cost, solution=myqueenastar(size)\n",
        "end = time.time()\n",
        "mytime_t.append((end-start))\n",
        "mynodes_exp.append(nodes_exp)\n",
        "myoptimal_cost.append(cost)\n",
        "print('Time' + str('%.2f' % (end-start)) + 's')\n",
        "print('Number of Nodes explored : ', nodes_exp)\n",
        "print('Path Cost : ', cost)\n",
        "print('\\nCHESS BOARD ===>')\n",
        "for i in range(size):\n",
        "  val = solution.pop(0)\n",
        "  for j in range(size):\n",
        "    \n",
        "    if(val==j):\n",
        "      print('1',end =\" \")\n",
        "    else:\n",
        "      print('0', end =\" \")\n",
        "  print(\"\\n\")"
      ],
      "metadata": {
        "id": "RbO63qGFvMnQ",
        "colab": {
          "base_uri": "https://localhost:8080/"
        },
        "outputId": "0f0bdd1f-b0ad-43ab-f096-7da50d832b1d"
      },
      "execution_count": null,
      "outputs": [
        {
          "output_type": "stream",
          "name": "stdout",
          "text": [
            "Goal found\n",
            "Time2.12s\n",
            "Number of Nodes explored :  65097\n",
            "Path Cost :  36\n",
            "\n",
            "CHESS BOARD ===>\n",
            "0 1 0 0 0 0 0 0 \n",
            "\n",
            "0 0 0 0 0 1 0 0 \n",
            "\n",
            "0 0 0 0 0 0 0 0 \n",
            "\n",
            "0 0 0 0 0 0 1 0 \n",
            "\n",
            "0 0 0 1 0 0 0 0 \n",
            "\n",
            "0 0 0 0 0 0 0 1 \n",
            "\n",
            "0 0 1 0 0 0 0 0 \n",
            "\n",
            "0 0 0 0 1 0 0 0 \n",
            "\n",
            "\n",
            "New heuristic :\n",
            "Goal found\n",
            "Time1.65s\n",
            "Number of Nodes explored :  53945\n",
            "Path Cost :  36\n",
            "\n",
            "CHESS BOARD ===>\n",
            "0 1 0 0 0 0 0 0 \n",
            "\n",
            "0 0 0 0 0 1 0 0 \n",
            "\n",
            "0 0 0 0 0 0 0 0 \n",
            "\n",
            "0 0 0 0 0 0 1 0 \n",
            "\n",
            "0 0 0 1 0 0 0 0 \n",
            "\n",
            "0 0 0 0 0 0 0 1 \n",
            "\n",
            "0 0 1 0 0 0 0 0 \n",
            "\n",
            "0 0 0 0 1 0 0 0 \n",
            "\n"
          ]
        }
      ]
    },
    {
      "cell_type": "markdown",
      "source": [
        "#### Trial 6: 9 queens"
      ],
      "metadata": {
        "id": "YuEmOyNXKaY0"
      }
    },
    {
      "cell_type": "code",
      "source": [
        "# Code to generate a 2D grid world\n",
        "# 0 represents empty position and 1 will denote that a queen currently occupy the given position. \n",
        "size= 9\n",
        "\n",
        "\n",
        "\n",
        "start = time.time()\n",
        "nodes_exp, cost, solution=queenastar(size)\n",
        "end = time.time()\n",
        "time_t.append((end-start))\n",
        "nodes_exp_l.append(nodes_exp)\n",
        "optimal_cost.append(cost)\n",
        "print('Time' + str('%.2f' % (end-start)) + 's')\n",
        "print('Number of Nodes explored : ', nodes_exp)\n",
        "print('Path Cost : ', cost)\n",
        "print('\\nCHESS BOARD ===>')\n",
        "for i in range(size):\n",
        "  val = solution.pop(0)\n",
        "  for j in range(size):\n",
        "    \n",
        "    if(val==j):\n",
        "      print('1',end =\" \")\n",
        "    else:\n",
        "      print('0', end =\" \")\n",
        "  print(\"\\n\")\n",
        "\n",
        "print(\"\\nNew heuristic :\")\n",
        "start = time.time()\n",
        "nodes_exp, cost, solution=myqueenastar(size)\n",
        "end = time.time()\n",
        "mytime_t.append((end-start))\n",
        "mynodes_exp.append(nodes_exp)\n",
        "myoptimal_cost.append(cost)\n",
        "print('Time' + str('%.2f' % (end-start)) + 's')\n",
        "print('Number of Nodes explored : ', nodes_exp)\n",
        "print('Path Cost : ', cost)\n",
        "print('\\nCHESS BOARD ===>')\n",
        "for i in range(size):\n",
        "  val = solution.pop(0)\n",
        "  for j in range(size):\n",
        "    \n",
        "    if(val==j):\n",
        "      print('1',end =\" \")\n",
        "    else:\n",
        "      print('0', end =\" \")\n",
        "  print(\"\\n\")"
      ],
      "metadata": {
        "id": "IujVrjEzKiew",
        "colab": {
          "base_uri": "https://localhost:8080/"
        },
        "outputId": "fbbf8dcc-4b9d-44de-aa3b-9cde68bbd10d"
      },
      "execution_count": null,
      "outputs": [
        {
          "output_type": "stream",
          "name": "stdout",
          "text": [
            "Goal found\n",
            "Time18.33s\n",
            "Number of Nodes explored :  491860\n",
            "Path Cost :  45\n",
            "\n",
            "CHESS BOARD ===>\n",
            "0 1 0 0 0 0 0 0 0 \n",
            "\n",
            "0 0 0 1 0 0 0 0 0 \n",
            "\n",
            "0 0 0 0 0 0 1 0 0 \n",
            "\n",
            "0 0 0 0 0 0 0 0 1 \n",
            "\n",
            "0 0 1 0 0 0 0 0 0 \n",
            "\n",
            "0 0 0 0 1 0 0 0 0 \n",
            "\n",
            "0 0 0 0 0 0 0 0 0 \n",
            "\n",
            "0 0 0 0 0 0 0 1 0 \n",
            "\n",
            "0 0 0 0 0 1 0 0 0 \n",
            "\n",
            "\n",
            "New heuristic :\n",
            "Goal found\n",
            "Time13.26s\n",
            "Number of Nodes explored :  363610\n",
            "Path Cost :  45\n",
            "\n",
            "CHESS BOARD ===>\n",
            "0 1 0 0 0 0 0 0 0 \n",
            "\n",
            "0 0 0 1 0 0 0 0 0 \n",
            "\n",
            "0 0 0 0 0 0 1 0 0 \n",
            "\n",
            "0 0 0 0 0 0 0 0 1 \n",
            "\n",
            "0 0 1 0 0 0 0 0 0 \n",
            "\n",
            "0 0 0 0 1 0 0 0 0 \n",
            "\n",
            "0 0 0 0 0 0 0 0 0 \n",
            "\n",
            "0 0 0 0 0 0 0 1 0 \n",
            "\n",
            "0 0 0 0 0 1 0 0 0 \n",
            "\n"
          ]
        }
      ]
    },
    {
      "cell_type": "markdown",
      "source": [
        "#### Trial 7: 10 queens"
      ],
      "metadata": {
        "id": "lpMp5CDVKdbK"
      }
    },
    {
      "cell_type": "code",
      "source": [
        "# Code to generate a 2D grid world.\n",
        "# 0 represents empty position and 1 will denote that a queen currently occupy the given position. \n",
        "size= 10\n",
        "\n",
        "\n",
        "\n",
        "start = time.time()\n",
        "nodes_exp, cost, solution=queenastar(size)\n",
        "end = time.time()\n",
        "time_t.append((end-start))\n",
        "nodes_exp_l.append(nodes_exp)\n",
        "optimal_cost.append(cost)\n",
        "print('Time' + str('%.2f' % (end-start)) + 's')\n",
        "print('Number of Nodes explored : ', nodes_exp)\n",
        "print('Path Cost : ', cost)\n",
        "print('\\nCHESS BOARD ===>')\n",
        "for i in range(size):\n",
        "  val = solution.pop(0)\n",
        "  for j in range(size):\n",
        "    \n",
        "    if(val==j):\n",
        "      print('1',end =\" \")\n",
        "    else:\n",
        "      print('0', end =\" \")\n",
        "  print(\"\\n\")\n",
        "\n",
        "print(\"\\nNew heuristic :\")\n",
        "start = time.time()\n",
        "nodes_exp, cost, solution=myqueenastar(size)\n",
        "end = time.time()\n",
        "mytime_t.append((end-start))\n",
        "mynodes_exp.append(nodes_exp)\n",
        "myoptimal_cost.append(cost)\n",
        "print('Time' + str('%.2f' % (end-start)) + 's')\n",
        "print('Number of Nodes explored : ', nodes_exp)\n",
        "print('Path Cost : ', cost)\n",
        "print('\\nCHESS BOARD ===>')\n",
        "for i in range(size):\n",
        "  val = solution.pop(0)\n",
        "  for j in range(size):\n",
        "    \n",
        "    if(val==j):\n",
        "      print('1',end =\" \")\n",
        "    else:\n",
        "      print('0', end =\" \")\n",
        "  print(\"\\n\")"
      ],
      "metadata": {
        "id": "O8Rbzve5KnkQ",
        "colab": {
          "base_uri": "https://localhost:8080/"
        },
        "outputId": "74dd273a-d8ac-48be-c9b0-b311e30f3e0e"
      },
      "execution_count": null,
      "outputs": [
        {
          "output_type": "stream",
          "name": "stdout",
          "text": [
            "Goal found\n",
            "Time165.54s\n",
            "Number of Nodes explored :  3928951\n",
            "Path Cost :  55\n",
            "\n",
            "CHESS BOARD ===>\n",
            "0 1 0 0 0 0 0 0 0 0 \n",
            "\n",
            "0 0 0 1 0 0 0 0 0 0 \n",
            "\n",
            "0 0 0 0 0 0 1 0 0 0 \n",
            "\n",
            "0 0 0 0 0 0 0 0 1 0 \n",
            "\n",
            "0 0 0 0 0 0 0 0 0 0 \n",
            "\n",
            "0 0 0 0 0 1 0 0 0 0 \n",
            "\n",
            "0 0 0 0 0 0 0 0 0 1 \n",
            "\n",
            "0 0 1 0 0 0 0 0 0 0 \n",
            "\n",
            "0 0 0 0 1 0 0 0 0 0 \n",
            "\n",
            "0 0 0 0 0 0 0 1 0 0 \n",
            "\n",
            "\n",
            "New heuristic :\n",
            "Goal found\n",
            "Time106.66s\n",
            "Number of Nodes explored :  2632391\n",
            "Path Cost :  55\n",
            "\n",
            "CHESS BOARD ===>\n",
            "0 1 0 0 0 0 0 0 0 0 \n",
            "\n",
            "0 0 0 1 0 0 0 0 0 0 \n",
            "\n",
            "0 0 0 0 0 0 1 0 0 0 \n",
            "\n",
            "0 0 0 0 0 0 0 0 1 0 \n",
            "\n",
            "0 0 0 0 0 0 0 0 0 0 \n",
            "\n",
            "0 0 0 0 0 1 0 0 0 0 \n",
            "\n",
            "0 0 0 0 0 0 0 0 0 1 \n",
            "\n",
            "0 0 1 0 0 0 0 0 0 0 \n",
            "\n",
            "0 0 0 0 1 0 0 0 0 0 \n",
            "\n",
            "0 0 0 0 0 0 0 1 0 0 \n",
            "\n"
          ]
        }
      ]
    },
    {
      "cell_type": "code",
      "source": [
        "X = [4, 5, 6, 7, 8, 9, 10]\n",
        "\n",
        "'''nodes_exp_l = []\n",
        "mynodes_exp = []\n",
        "optimal_cost = []\n",
        "myoptimal_cost = []\n",
        "time_t = []\n",
        "mytime_t = []'''\n",
        "n_e=sns.barplot(x=X, y=nodes_exp_l, palette=\"husl\",lw=3,ec=\"black\",hatch=\"..\")\n",
        "n_e.set(xlabel =\"SIZE\", ylabel = \"Nodes Explored\")\n",
        "\n"
      ],
      "metadata": {
        "colab": {
          "base_uri": "https://localhost:8080/",
          "height": 307
        },
        "id": "VIEypSuLuAr4",
        "outputId": "a910a49e-9775-4767-f4b1-e54ae3e54b7f"
      },
      "execution_count": null,
      "outputs": [
        {
          "output_type": "execute_result",
          "data": {
            "text/plain": [
              "[Text(0, 0.5, 'Nodes Explored'), Text(0.5, 0, 'SIZE')]"
            ]
          },
          "metadata": {},
          "execution_count": 129
        },
        {
          "output_type": "display_data",
          "data": {
            "image/png": "[encoded data removed]",
            "text/plain": [
              "<Figure size 432x288 with 1 Axes>"
            ]
          },
          "metadata": {
            "needs_background": "light"
          }
        }
      ]
    },
    {
      "cell_type": "markdown",
      "source": [
        "**Observations:**\n",
        "\n",
        "\n",
        "*   The graph above represents number of nodes explored for each trial size.\n",
        "*   We can see as the size increases the number of nodes explored increases exponentially. This happens because as we increase the size the number of states also increase, so ultimately this leads to more number of states explored.\n",
        "\n"
      ],
      "metadata": {
        "id": "C2XYLzQYtj4j"
      }
    },
    {
      "cell_type": "code",
      "source": [
        "o_c=sns.barplot(x=X, y=optimal_cost, palette=\"husl\",lw=3,ec=\"black\",hatch=\"..\")\n",
        "o_c.set(xlabel =\"SIZE\", ylabel = \"Optimal Cost\")"
      ],
      "metadata": {
        "colab": {
          "base_uri": "https://localhost:8080/",
          "height": 296
        },
        "id": "RXRIoQ7Q0tLP",
        "outputId": "1ccb84fe-6b75-4061-9025-006dbcd8c50b"
      },
      "execution_count": null,
      "outputs": [
        {
          "output_type": "execute_result",
          "data": {
            "text/plain": [
              "[Text(0, 0.5, 'Optimal Cost'), Text(0.5, 0, 'SIZE')]"
            ]
          },
          "metadata": {},
          "execution_count": 125
        },
        {
          "output_type": "display_data",
          "data": {
            "image/png": "[encoded data removed]",
            "text/plain": [
              "<Figure size 432x288 with 1 Axes>"
            ]
          },
          "metadata": {
            "needs_background": "light"
          }
        }
      ]
    },
    {
      "cell_type": "markdown",
      "source": [
        "**Observations:**\n",
        "\n",
        "\n",
        "*   The above graph represents the optimal cost for each trial size.\n",
        "*   As size increases the optimal cost also increases. This happens because as we increase the size the cost to reach the goal state also increases.\n",
        "\n"
      ],
      "metadata": {
        "id": "XtOcO0ZbuFjZ"
      }
    },
    {
      "cell_type": "code",
      "source": [
        "t_t = sns.barplot(x=X, y=time_t, palette=\"husl\",lw=3,ec=\"black\",hatch=\"..\")\n",
        "t_t.set(xlabel =\"SIZE\", ylabel = \"Time in seconds\")"
      ],
      "metadata": {
        "colab": {
          "base_uri": "https://localhost:8080/",
          "height": 296
        },
        "id": "vjHXiW-o1KDy",
        "outputId": "a2a6c779-c7b8-4975-bec2-6fba9ccf1892"
      },
      "execution_count": null,
      "outputs": [
        {
          "output_type": "execute_result",
          "data": {
            "text/plain": [
              "[Text(0, 0.5, 'Time in seconds'), Text(0.5, 0, 'SIZE')]"
            ]
          },
          "metadata": {},
          "execution_count": 128
        },
        {
          "output_type": "display_data",
          "data": {
            "image/png": "[encoded data removed]",
            "text/plain": [
              "<Figure size 432x288 with 1 Axes>"
            ]
          },
          "metadata": {
            "needs_background": "light"
          }
        }
      ]
    },
    {
      "cell_type": "markdown",
      "source": [
        "**Observations:**\n",
        "\n",
        "\n",
        "*   The above graph represents time for finding the goal state for each trial.\n",
        "*   We can see as we increase the size the time also increases very significantly. This happens because increase in size leads to increase in number of states and thus the search takes more time to find the goal state. \n",
        "\n"
      ],
      "metadata": {
        "id": "gjpCBwUhuh9a"
      }
    },
    {
      "cell_type": "code",
      "source": [
        "time_h = []\n",
        "time_h.append(np.mean(time_t))\n",
        "time_h.append(np.mean(mytime_t))\n",
        "heuristics = [\"Original\", \"New\"]\n",
        "sns.barplot(x=heuristics, y=time_h, palette=\"husl\",lw=3,ec=\"black\",hatch=\"..\")\n"
      ],
      "metadata": {
        "colab": {
          "base_uri": "https://localhost:8080/",
          "height": 282
        },
        "id": "JQ7viJsZ1a1r",
        "outputId": "556c966d-bd15-4956-b541-a682f3224190"
      },
      "execution_count": null,
      "outputs": [
        {
          "output_type": "execute_result",
          "data": {
            "text/plain": [
              "<matplotlib.axes._subplots.AxesSubplot at 0x7f7b2fc816d0>"
            ]
          },
          "metadata": {},
          "execution_count": 132
        },
        {
          "output_type": "display_data",
          "data": {
            "image/png": "[encoded data removed]",
            "text/plain": [
              "<Figure size 432x288 with 1 Axes>"
            ]
          },
          "metadata": {
            "needs_background": "light"
          }
        }
      ]
    },
    {
      "cell_type": "markdown",
      "source": [
        "**Observations:**\n",
        "\n",
        "\n",
        "*   The above graph helps in comparing the original heuristic with the new heuristic.\n",
        "*   Y-axis shows the mean time of all the trials for each heuristic function.\n",
        "\n",
        "\n",
        "*   We can clearly notice that new heuristic function returns better time than our original heuristic function.\n",
        "*   So, we can see that the new heuristic function performs better than the original heuristic function.\n",
        "\n",
        "\n",
        "\n"
      ],
      "metadata": {
        "id": "HPM8rDOqv9sa"
      }
    }
  ]
}